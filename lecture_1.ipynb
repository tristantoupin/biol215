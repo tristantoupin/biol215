{
 "cells": [
  {
   "cell_type": "code",
   "execution_count": 1,
   "metadata": {},
   "outputs": [],
   "source": [
    "lecture_number = 1\n",
    "lecture_data_folder = \"lecture_\" + lecture_number + \"_data/\"\n",
    "lecture_title = \"Intro to Ecology and Evolution\"\n",
    "lecture_prof = \"Professor Neil Price\"\n",
    "lecture_room = \"STBIO N6/12\"\n",
    "lecture_prof_contact = [\"neil.price@mcgill.ca\"]"
   ]
  },
  {
   "cell_type": "code",
   "execution_count": null,
   "metadata": {},
   "outputs": [],
   "source": [
    "part_1 = \"What is Ecology and Evolution?\"\n",
    "section_1_1 = \"Definitions\"\n",
    "item_1_1_1 = \"Study relationships between organisms and their environment.\"\n",
    "item_1_1_2 = \"Tries to answer these question:\"\n",
    "bullet_1_1_2 = [\"How did this diversity originate?\", \"How is it maintained?\", \"What are its consequences?\"]\n",
    "item_1_1_3 = \"Scientific Method\""
   ]
  }
 ],
 "metadata": {
  "kernelspec": {
   "display_name": "Python 3",
   "language": "python",
   "name": "python3"
  },
  "language_info": {
   "codemirror_mode": {
    "name": "ipython",
    "version": 3
   },
   "file_extension": ".py",
   "mimetype": "text/x-python",
   "name": "python",
   "nbconvert_exporter": "python",
   "pygments_lexer": "ipython3",
   "version": "3.6.2"
  }
 },
 "nbformat": 4,
 "nbformat_minor": 2
}
